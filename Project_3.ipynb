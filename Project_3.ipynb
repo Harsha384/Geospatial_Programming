{
 "cells": [
  {
   "cell_type": "markdown",
   "metadata": {},
   "source": [
    "# An Introduction to Pandas Part II\n",
    "### Harsha Kankanamge"
   ]
  },
  {
   "cell_type": "code",
   "execution_count": 5,
   "metadata": {},
   "outputs": [
    {
     "data": {
      "text/plain": [
       "'0.23.4'"
      ]
     },
     "execution_count": 5,
     "metadata": {},
     "output_type": "execute_result"
    }
   ],
   "source": [
    "import pandas as pd\n",
    "pd.__version__"
   ]
  },
  {
   "cell_type": "code",
   "execution_count": 1,
   "metadata": {},
   "outputs": [
    {
     "data": {
      "text/plain": [
       "'C:\\\\Users\\\\harsh\\\\Desktop\\\\GEG584\\\\Assignment_3'"
      ]
     },
     "execution_count": 1,
     "metadata": {},
     "output_type": "execute_result"
    }
   ],
   "source": [
    " # get working (current) directory\n",
    "import os\n",
    "os.getcwd()"
   ]
  },
  {
   "cell_type": "code",
   "execution_count": 6,
   "metadata": {},
   "outputs": [
    {
     "data": {
      "text/plain": [
       "(29323, 7)"
      ]
     },
     "execution_count": 6,
     "metadata": {},
     "output_type": "execute_result"
    }
   ],
   "source": [
    "filename = 'PlacePop_poverty2017.csv'\n",
    "pop_df = pd.read_csv(filename,encoding='UTF-8')\n",
    "pop_df.shape # How many rows and columns in the dataframe"
   ]
  },
  {
   "cell_type": "code",
   "execution_count": null,
   "metadata": {},
   "outputs": [],
   "source": [
    "pop_df.head()"
   ]
  },
  {
   "cell_type": "code",
   "execution_count": null,
   "metadata": {},
   "outputs": [],
   "source": [
    "pop_df.columns"
   ]
  },
  {
   "cell_type": "code",
   "execution_count": null,
   "metadata": {},
   "outputs": [],
   "source": [
    "fields=[]\n",
    "for x in [2,5,6]:fields.append(pop_df.columns[x])\n",
    "fields"
   ]
  },
  {
   "cell_type": "code",
   "execution_count": null,
   "metadata": {},
   "outputs": [],
   "source": [
    "pop_df = pd.read_csv(filename,usecols=fields)\n",
    "pop_df.shape"
   ]
  },
  {
   "cell_type": "markdown",
   "metadata": {},
   "source": [
    "### Find places similar in size to Buffalo, NY.\n",
    "Calculate the z-score comparing the under 18 population of all places to the under 18 population of Buffalo, NY.                \n",
    "Use this information to retain places with a under 18 population that is not significantly different from Buffalo's.                   \n",
    "\n",
    "1.Get Buffalo's population (Under18Est and Under18Moe)                                \n",
    "2.Calculate z-score comparing Buffalo to all other places"
   ]
  },
  {
   "cell_type": "code",
   "execution_count": null,
   "metadata": {},
   "outputs": [],
   "source": [
    "bufEst = pop_df.loc[pop_df.Geography=='Buffalo city, New York',['Under18Est']].values[0,0]\n",
    "bufMoe = pop_df.loc[pop_df.Geography=='Buffalo city, New York',['Under18Moe']].values[0,0]\n",
    "bufEst,bufMoe"
   ]
  },
  {
   "cell_type": "code",
   "execution_count": null,
   "metadata": {},
   "outputs": [],
   "source": [
    "pop_df['zBflo']=(pop_df['Under18Est']-bufEst)/((pop_df['Under18Moe']/1.645)**2+(bufMoe/1.645)**2)**.5\n",
    "pop_df['zBflo'][:10]"
   ]
  },
  {
   "cell_type": "code",
   "execution_count": null,
   "metadata": {},
   "outputs": [],
   "source": [
    "pop_df1=pop_df.loc[(pop_df['zBflo'].abs() < 1.645)].copy() # under 18 population same as Buffalo, 90% confidence"
   ]
  },
  {
   "cell_type": "code",
   "execution_count": null,
   "metadata": {},
   "outputs": [],
   "source": [
    "pop_df1"
   ]
  },
  {
   "cell_type": "markdown",
   "metadata": {},
   "source": [
    "### Result\n",
    "This new dataframe contains under 18 population estimates for 7 places similar in size to Buffalo. We are interested in how Buffalo compares to these cities with respect to the percent of the under 18 population below the poverty level.                         \n",
    "\n",
    "Since we only need the data for these 7 places, join the poverty rate data to this dataframe.\n",
    "\n",
    "Analyze the results for these places."
   ]
  },
  {
   "cell_type": "code",
   "execution_count": null,
   "metadata": {},
   "outputs": [],
   "source": [
    "filename = 'poverty2017_5yr.csv'\n",
    "fields = ['Geography', 'Under 18 BelPov Est','Under 18 BelPov MOE' ]\n",
    "df = pd.read_csv(filename,usecols=fields)\n",
    "df.columns=[\"Geography\", \"est\",\"moe\"]\n",
    "df.columns"
   ]
  },
  {
   "cell_type": "markdown",
   "metadata": {},
   "source": [
    "Since the population dataframe and the poverty rate dataframe have a common field (Geography), a simple merge statement suffices."
   ]
  },
  {
   "cell_type": "code",
   "execution_count": null,
   "metadata": {},
   "outputs": [],
   "source": [
    "mergedf = pd.merge(pop_df1,df)\n",
    "mergedf"
   ]
  },
  {
   "cell_type": "code",
   "execution_count": null,
   "metadata": {},
   "outputs": [],
   "source": [
    "mergedf['est']=mergedf['est'].apply(lambda x: pd.to_numeric(x, errors='coerce'))\n",
    "mergedf['moe']=mergedf['moe'].apply(lambda x: pd.to_numeric(x, errors='coerce'))"
   ]
  },
  {
   "cell_type": "code",
   "execution_count": null,
   "metadata": {},
   "outputs": [],
   "source": [
    "mergedf.dropna(inplace=True)\n",
    "mergedf"
   ]
  },
  {
   "cell_type": "markdown",
   "metadata": {},
   "source": [
    "## Calculate z-score"
   ]
  },
  {
   "cell_type": "code",
   "execution_count": null,
   "metadata": {},
   "outputs": [],
   "source": [
    "bufEst = mergedf.loc[mergedf.Geography=='Buffalo city, New York']\n",
    "bufEst"
   ]
  },
  {
   "cell_type": "code",
   "execution_count": null,
   "metadata": {},
   "outputs": [],
   "source": [
    "bufEst = mergedf.loc[mergedf.Geography=='Buffalo city, New York',['est']].values[0,0]\n",
    "bufMoe = mergedf.loc[mergedf.Geography=='Buffalo city, New York',['moe']].values[0,0]\n",
    "bufEst,bufMoe"
   ]
  },
  {
   "cell_type": "code",
   "execution_count": null,
   "metadata": {},
   "outputs": [],
   "source": [
    "mergedf['zBflo2']=(mergedf['est']-bufEst)/((mergedf['moe']/1.645)**2+(bufMoe/1.645)**2)**.5\n",
    "mergedf['zBflo2'][:10]"
   ]
  },
  {
   "cell_type": "code",
   "execution_count": null,
   "metadata": {},
   "outputs": [],
   "source": [
    "mergedf.loc[mergedf.zBflo2 > 1.645,['Geography','est','moe']] # percent poverty greater than Buffalo, 90% confidence"
   ]
  },
  {
   "cell_type": "markdown",
   "metadata": {},
   "source": [
    "### Result\n",
    "Only 1 Place in the U.S. similar in size to Buffalo has a higher proportion of population below the poverty level.\n",
    "\n",
    "How many similarly sized places have a poverty rate that is not significantly different from Buffalo's?"
   ]
  },
  {
   "cell_type": "code",
   "execution_count": null,
   "metadata": {},
   "outputs": [],
   "source": [
    "mergedf['zBflo2']=mergedf['zBflo2'].abs()"
   ]
  },
  {
   "cell_type": "code",
   "execution_count": null,
   "metadata": {},
   "outputs": [],
   "source": [
    "mergedf.loc[mergedf.zBflo2 <= 1.645,['Geography','est','moe']] # percent poverty similar to Buffalo, 90% confidence"
   ]
  },
  {
   "cell_type": "markdown",
   "metadata": {},
   "source": [
    "### Result Only 3!\n",
    "How many places with under 18 population greater than 80000 have higher poverty rates than Buffalo?"
   ]
  },
  {
   "cell_type": "code",
   "execution_count": null,
   "metadata": {},
   "outputs": [],
   "source": [
    "bigdf=pop_df.loc[(pop_df.zUB >= 1.645)].copy() # under 18 population greater than or equal to 80000, 90% confidence\n",
    "bigdf.shape"
   ]
  },
  {
   "cell_type": "code",
   "execution_count": null,
   "metadata": {},
   "outputs": [],
   "source": [
    "bigMergedf = pd.merge(bigdf,df)\n",
    "bigMergedf.tail()"
   ]
  },
  {
   "cell_type": "code",
   "execution_count": null,
   "metadata": {},
   "outputs": [],
   "source": [
    "bigMergedf['est']=bigMergedf['est'].apply(lambda x: pd.to_numeric(x, errors='coerce'))\n",
    "bigMergedf['moe']=bigMergedf['moe'].apply(lambda x: pd.to_numeric(x, errors='coerce'))"
   ]
  },
  {
   "cell_type": "code",
   "execution_count": null,
   "metadata": {},
   "outputs": [],
   "source": [
    "bigMergedf['zBflo2']=(bigMergedf['est']-bufEst)/((bigMergedf['moe']/1.645)**2+(bufMoe/1.645)**2)**.5\n",
    "bigMergedf['zBflo2'][:10]"
   ]
  },
  {
   "cell_type": "code",
   "execution_count": null,
   "metadata": {},
   "outputs": [],
   "source": [
    "bigMergedf.loc[bigMergedf.zBflo2 > 1.645,['Geography','est','moe']] # percent poverty greater than Buffalo, 90% confidence"
   ]
  },
  {
   "cell_type": "code",
   "execution_count": null,
   "metadata": {},
   "outputs": [],
   "source": [
    "bigMergedf['zBflo2']=bigMergedf['zBflo2'].abs()\n",
    "bigMergedf.loc[bigMergedf.zBflo2 <= 1.645,['Geography','est','moe']] # percent poverty similar to Buffalo, 90% confidence"
   ]
  },
  {
   "cell_type": "markdown",
   "metadata": {},
   "source": [
    "### Summary\n",
    "Fifty four large places (Mesa city,Phoenix city, Arizona , Anaheim city, California and more) and 1 similar sized place (Rochester, NY) have under 18 (childrens) poverty rates higher than Buffalo's. Three similary sized places (Birmingham city, Alabama, Syracuse city, New York and Dayton city, Ohio) have poverty rates that are not significantly different from Buffalo's for under 18 (childrens).\n",
    "\n"
   ]
  },
  {
   "cell_type": "markdown",
   "metadata": {},
   "source": [
    "# Challenge:"
   ]
  },
  {
   "cell_type": "markdown",
   "metadata": {},
   "source": [
    "Instead of using total population as the measure of size for the comparisons, use the proportion of children in the population. These values can be calculated from the PlacePop_poverty2017.csv file."
   ]
  },
  {
   "cell_type": "code",
   "execution_count": null,
   "metadata": {},
   "outputs": [],
   "source": [
    "import pandas as pd\n",
    "df_2=pd.read_csv('PlacePop_poverty2017.csv')"
   ]
  },
  {
   "cell_type": "code",
   "execution_count": null,
   "metadata": {},
   "outputs": [],
   "source": [
    "df_2[:5]"
   ]
  },
  {
   "cell_type": "markdown",
   "metadata": {},
   "source": [
    " ### Calculate the estimated proportion of children PctKidEst = (Under18Est/PopEst) and the margin of error"
   ]
  },
  {
   "cell_type": "code",
   "execution_count": null,
   "metadata": {},
   "outputs": [],
   "source": [
    "df_2['PctKidEst'] = (df_2['Under18Est']/df_2['PopEst']) "
   ]
  },
  {
   "cell_type": "markdown",
   "metadata": {},
   "source": [
    "### PctKidMoe = ((1/PopEst) * sqrt( Under18Moe^2 - PctKidEst^2 * PopMoe^2) *1.645"
   ]
  },
  {
   "cell_type": "code",
   "execution_count": null,
   "metadata": {},
   "outputs": [],
   "source": [
    "df_2['PctKidMoe'] = ((1/df_2['PopEst']) * ( df_2['Under18Moe']**2 - (df_2['PctKidEst']**2 * df_2['PopMoe']**2))**0.5)"
   ]
  },
  {
   "cell_type": "code",
   "execution_count": null,
   "metadata": {},
   "outputs": [],
   "source": [
    "df_2[:5]"
   ]
  },
  {
   "cell_type": "code",
   "execution_count": null,
   "metadata": {},
   "outputs": [],
   "source": [
    "df_2['PctKidEst']=df_2['PctKidEst']*100\n",
    "df_2['PctKidMoe']=df_2['PctKidMoe']*100"
   ]
  },
  {
   "cell_type": "code",
   "execution_count": null,
   "metadata": {},
   "outputs": [],
   "source": [
    "df_2=df_2[[\"Geography\", \"PctKidEst\",\"PctKidMoe\"]]\n",
    "df_2[:5]"
   ]
  },
  {
   "cell_type": "markdown",
   "metadata": {},
   "source": [
    "### Find places similar in size to Buffalo, NY.\n",
    "Calculate the z-score comparing the under 18 population of all places to the under 18 population of Buffalo, NY.                \n",
    "Use this information to retain places with a under 18 population that is not significantly different from Buffalo's.                   \n",
    "\n",
    "1.Get Buffalo's population (Under18Est and Under18Moe)                                \n",
    "2.Calculate z-score comparing Buffalo to all other places"
   ]
  },
  {
   "cell_type": "code",
   "execution_count": null,
   "metadata": {},
   "outputs": [],
   "source": [
    "bufEst = df_2.loc[df_2.Geography=='Buffalo city, New York',['PctKidEst']].values[0,0]\n",
    "bufMoe = df_2.loc[df_2.Geography=='Buffalo city, New York',['PctKidMoe']].values[0,0]\n",
    "bufEst,bufMoe"
   ]
  },
  {
   "cell_type": "code",
   "execution_count": null,
   "metadata": {},
   "outputs": [],
   "source": [
    "df_2['zBflo2']=(df_2['PctKidEst']-bufEst)/((df_2['PctKidMoe']/1.645)**2+(bufMoe/1.645)**2)**.5\n",
    "df_2['zBflo2'][:10]"
   ]
  },
  {
   "cell_type": "code",
   "execution_count": null,
   "metadata": {},
   "outputs": [],
   "source": [
    "df_2.loc[(df_2['zBflo2'].abs() < 1.645)] # percent under 18 same as Buffalo, 90% confidence"
   ]
  },
  {
   "cell_type": "markdown",
   "metadata": {},
   "source": [
    "## Result\n",
    "18804 places have percent population under 18 equal to Buffalo'.   \n",
    "Comapre to poverty rate for under 18 in Buffalo to the rate for these places "
   ]
  },
  {
   "cell_type": "markdown",
   "metadata": {},
   "source": [
    "## Find all places with PctKidEst similar to Buffalo's (extra)"
   ]
  },
  {
   "cell_type": "code",
   "execution_count": null,
   "metadata": {},
   "outputs": [],
   "source": [
    "bufEst1 = df_2.loc[df_2.Geography=='Buffalo city, New York',['PctKidEst']].values[0,0]\n",
    "bufEst1"
   ]
  },
  {
   "cell_type": "code",
   "execution_count": null,
   "metadata": {},
   "outputs": [],
   "source": [
    "PctKidEs_equ_buff=df_2.loc[df_2.PctKidEst==bufEst1]\n",
    "PctKidEs_equ_buff"
   ]
  },
  {
   "cell_type": "markdown",
   "metadata": {},
   "source": [
    "## Round up and down to the nearest tens around Buffalo's"
   ]
  },
  {
   "cell_type": "code",
   "execution_count": null,
   "metadata": {},
   "outputs": [],
   "source": [
    "PctKidEs_equ_buff1=df_2[(df_2['PctKidEst']<30)&(df_2['PctKidEst']>20)]\n",
    "PctKidEs_equ_buff1"
   ]
  },
  {
   "cell_type": "code",
   "execution_count": null,
   "metadata": {},
   "outputs": [],
   "source": []
  }
 ],
 "metadata": {
  "kernelspec": {
   "display_name": "Python 3",
   "language": "python",
   "name": "python3"
  },
  "language_info": {
   "codemirror_mode": {
    "name": "ipython",
    "version": 3
   },
   "file_extension": ".py",
   "mimetype": "text/x-python",
   "name": "python",
   "nbconvert_exporter": "python",
   "pygments_lexer": "ipython3",
   "version": "3.7.1"
  }
 },
 "nbformat": 4,
 "nbformat_minor": 2
}
